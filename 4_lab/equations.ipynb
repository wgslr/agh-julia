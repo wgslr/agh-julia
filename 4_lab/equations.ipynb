{
 "cells": [
  {
   "cell_type": "code",
   "execution_count": 1,
   "metadata": {},
   "outputs": [],
   "source": [
    "using Gadfly\n",
    "\n",
    "using DataFrames\n",
    "using DifferentialEquations"
   ]
  },
  {
   "cell_type": "code",
   "execution_count": 2,
   "metadata": {},
   "outputs": [
    {
     "name": "stdout",
     "output_type": "stream",
     "text": [
      " - DifferentialEquations         4.5.0\n"
     ]
    }
   ],
   "source": [
    "Pkg.status(\"DifferentialEquations\")\n"
   ]
  },
  {
   "cell_type": "code",
   "execution_count": 3,
   "metadata": {},
   "outputs": [
    {
     "data": {
      "text/plain": [
       "1.2"
      ]
     },
     "execution_count": 3,
     "metadata": {},
     "output_type": "execute_result"
    }
   ],
   "source": [
    "a = 2.\n",
    "b = 1.5\n",
    "c = 1.\n",
    "d = 1.2\n"
   ]
  },
  {
   "cell_type": "code",
   "execution_count": 4,
   "metadata": {},
   "outputs": [
    {
     "data": {
      "text/plain": [
       "DiffEqBase.ODEProblem with uType Array{Float64,1} and tType Float64. In-place: true\n",
       "timespan: (0.0, 10.0)\n",
       "u0: [3.0, 5.0]"
      ]
     },
     "execution_count": 4,
     "metadata": {},
     "output_type": "execute_result"
    }
   ],
   "source": [
    "\n",
    "function equation(du, u, p, t)\n",
    "    du[1] = a * u[1] - b * u[1] * u[2]\n",
    "    du[2] = -c * u[2] + d * u[1] * u[2]\n",
    "end\n",
    "u0=[3.0, 5.0]\n",
    "tspan = (0.0,10.0)\n",
    "prob = ODEProblem(equation,u0,tspan)\n",
    "# prob2 = ODEProblem(f2,u0,tspan)\n",
    "\n",
    "\n",
    "\n"
   ]
  },
  {
   "cell_type": "code",
   "execution_count": 5,
   "metadata": {},
   "outputs": [
    {
     "data": {
      "text/plain": [
       "retcode: Success\n",
       "Interpolation: 3rd order Hermite\n",
       "t: 99-element Array{Float64,1}:\n",
       "  0.0      \n",
       "  0.01     \n",
       "  0.0239526\n",
       "  0.0414744\n",
       "  0.0628314\n",
       "  0.0877298\n",
       "  0.116275 \n",
       "  0.148643 \n",
       "  0.185654 \n",
       "  0.229595 \n",
       "  0.273355 \n",
       "  0.317806 \n",
       "  0.363031 \n",
       "  ⋮        \n",
       "  8.3176   \n",
       "  8.42233  \n",
       "  8.5366   \n",
       "  8.66198  \n",
       "  8.80022  \n",
       "  8.95293  \n",
       "  9.12152  \n",
       "  9.30576  \n",
       "  9.50275  \n",
       "  9.70834  \n",
       "  9.91864  \n",
       " 10.0      \n",
       "u: 99-element Array{Array{Float64,1},1}:\n",
       " [3.0, 5.0]            \n",
       " [2.83674, 5.12666]    \n",
       " [2.61565, 5.29168]    \n",
       " [2.35131, 5.47835]    \n",
       " [2.0523, 5.67357]     \n",
       " [1.739, 5.85596]      \n",
       " [1.4279, 6.0075]      \n",
       " [1.13481, 6.11175]    \n",
       " [0.869043, 6.15611]   \n",
       " [0.63275, 6.12733]    \n",
       " [0.463209, 6.0347]    \n",
       " [0.34007, 5.89623]    \n",
       " [0.250958, 5.72582]   \n",
       " ⋮                     \n",
       " [0.0062526, 2.16088]  \n",
       " [0.00558479, 1.94747] \n",
       " [0.00511937, 1.73845] \n",
       " [0.00483745, 1.53473] \n",
       " [0.00473757, 1.33764] \n",
       " [0.00483877, 1.1492]  \n",
       " [0.00518756, 0.9719]  \n",
       " [0.00586673, 0.809344]\n",
       " [0.00700094, 0.665643]\n",
       " [0.00877147, 0.542993]\n",
       " [0.0114437, 0.441125] \n",
       " [0.0127869, 0.407138] "
      ]
     },
     "execution_count": 5,
     "metadata": {},
     "output_type": "execute_result"
    }
   ],
   "source": [
    "\n",
    "sol = solve(prob, RK4(), dt=0.01)\n",
    "\n",
    "# sol2 = solve(prob2, RK4(), dt=0.01)"
   ]
  },
  {
   "cell_type": "code",
   "execution_count": 6,
   "metadata": {},
   "outputs": [
    {
     "data": {
      "text/html": [
       "<table class=\"data-frame\"><thead><tr><th></th><th>t</th><th>u</th><th>lambda</th></tr></thead><tbody><tr><th>1</th><td>0.0</td><td>[3.0, 5.0]</td><td>1.0</td></tr><tr><th>2</th><td>0.01</td><td>[2.83674, 5.12666]</td><td>1.0</td></tr><tr><th>3</th><td>0.023952619910086247</td><td>[2.61565, 5.29168]</td><td>1.0</td></tr><tr><th>4</th><td>0.04147441863641572</td><td>[2.35131, 5.47835]</td><td>1.0</td></tr><tr><th>5</th><td>0.06283144001701346</td><td>[2.0523, 5.67357]</td><td>1.0</td></tr><tr><th>6</th><td>0.08772977506927374</td><td>[1.739, 5.85596]</td><td>1.0</td></tr><tr><th>7</th><td>0.1162752091304185</td><td>[1.4279, 6.0075]</td><td>1.0</td></tr><tr><th>8</th><td>0.14864344852094746</td><td>[1.13481, 6.11175]</td><td>1.0</td></tr><tr><th>9</th><td>0.18565358509553717</td><td>[0.869043, 6.15611]</td><td>1.0</td></tr><tr><th>10</th><td>0.22959455863572226</td><td>[0.63275, 6.12733]</td><td>1.0</td></tr><tr><th>11</th><td>0.273354529129127</td><td>[0.463209, 6.0347]</td><td>1.0</td></tr><tr><th>12</th><td>0.3178055735921822</td><td>[0.34007, 5.89623]</td><td>1.0</td></tr><tr><th>13</th><td>0.3630313069812008</td><td>[0.250958, 5.72582]</td><td>1.0</td></tr><tr><th>14</th><td>0.4092324427831491</td><td>[0.186325, 5.5334]</td><td>1.0</td></tr><tr><th>15</th><td>0.45653780486285406</td><td>[0.139323, 5.32634]</td><td>1.0</td></tr><tr><th>16</th><td>0.5051457541267991</td><td>[0.104959, 5.10961]</td><td>1.0</td></tr><tr><th>17</th><td>0.5552545426805581</td><td>[0.0796894, 4.88673]</td><td>1.0</td></tr><tr><th>18</th><td>0.6070977772139025</td><td>[0.0609875, 4.66003]</td><td>1.0</td></tr><tr><th>19</th><td>0.6609268513938504</td><td>[0.0470571, 4.43115]</td><td>1.0</td></tr><tr><th>20</th><td>0.7170236313500361</td><td>[0.0366145, 4.20115]</td><td>1.0</td></tr><tr><th>21</th><td>0.7757003202150647</td><td>[0.0287391, 3.9708]</td><td>1.0</td></tr><tr><th>22</th><td>0.8373088380765528</td><td>[0.0227657, 3.74062]</td><td>1.0</td></tr><tr><th>23</th><td>0.902248319567109</td><td>[0.0182116, 3.51099]</td><td>1.0</td></tr><tr><th>24</th><td>0.9709770492341878</td><td>[0.014724, 3.28222]</td><td>1.0</td></tr><tr><th>25</th><td>1.0437468151081788</td><td>[0.0120525, 3.05541]</td><td>1.0</td></tr><tr><th>26</th><td>1.1212009380245387</td><td>[0.00999836, 2.83057]</td><td>1.0</td></tr><tr><th>27</th><td>1.203943391771731</td><td>[0.00841974, 2.60816]</td><td>1.0</td></tr><tr><th>28</th><td>1.2927830010795067</td><td>[0.00721056, 2.38843]</td><td>1.0</td></tr><tr><th>29</th><td>1.3886433180809499</td><td>[0.00629434, 2.17178]</td><td>1.0</td></tr><tr><th>30</th><td>1.4926564730733392</td><td>[0.00561668, 1.95869]</td><td>1.0</td></tr><tr><th>&vellip;</th><td>&vellip;</td><td>&vellip;</td><td>&vellip;</td></tr></tbody></table>"
      ],
      "text/plain": [
       "99×3 DataFrames.DataFrame\n",
       "│ Row │ t         │ u                      │ lambda │\n",
       "├─────┼───────────┼────────────────────────┼────────┤\n",
       "│ 1   │ 0.0       │ [3.0, 5.0]             │ 1.0    │\n",
       "│ 2   │ 0.01      │ [2.83674, 5.12666]     │ 1.0    │\n",
       "│ 3   │ 0.0239526 │ [2.61565, 5.29168]     │ 1.0    │\n",
       "│ 4   │ 0.0414744 │ [2.35131, 5.47835]     │ 1.0    │\n",
       "│ 5   │ 0.0628314 │ [2.0523, 5.67357]      │ 1.0    │\n",
       "│ 6   │ 0.0877298 │ [1.739, 5.85596]       │ 1.0    │\n",
       "│ 7   │ 0.116275  │ [1.4279, 6.0075]       │ 1.0    │\n",
       "│ 8   │ 0.148643  │ [1.13481, 6.11175]     │ 1.0    │\n",
       "│ 9   │ 0.185654  │ [0.869043, 6.15611]    │ 1.0    │\n",
       "│ 10  │ 0.229595  │ [0.63275, 6.12733]     │ 1.0    │\n",
       "│ 11  │ 0.273355  │ [0.463209, 6.0347]     │ 1.0    │\n",
       "⋮\n",
       "│ 88  │ 8.3176    │ [0.0062526, 2.16088]   │ 1.0    │\n",
       "│ 89  │ 8.42233   │ [0.00558479, 1.94747]  │ 1.0    │\n",
       "│ 90  │ 8.5366    │ [0.00511937, 1.73845]  │ 1.0    │\n",
       "│ 91  │ 8.66198   │ [0.00483745, 1.53473]  │ 1.0    │\n",
       "│ 92  │ 8.80022   │ [0.00473757, 1.33764]  │ 1.0    │\n",
       "│ 93  │ 8.95293   │ [0.00483877, 1.1492]   │ 1.0    │\n",
       "│ 94  │ 9.12152   │ [0.00518756, 0.9719]   │ 1.0    │\n",
       "│ 95  │ 9.30576   │ [0.00586673, 0.809344] │ 1.0    │\n",
       "│ 96  │ 9.50275   │ [0.00700094, 0.665643] │ 1.0    │\n",
       "│ 97  │ 9.70834   │ [0.00877147, 0.542993] │ 1.0    │\n",
       "│ 98  │ 9.91864   │ [0.0114437, 0.441125]  │ 1.0    │\n",
       "│ 99  │ 10.0      │ [0.0127869, 0.407138]  │ 1.0    │"
      ]
     },
     "execution_count": 6,
     "metadata": {},
     "output_type": "execute_result"
    }
   ],
   "source": [
    "λ=1.0\n",
    "\n",
    "df1=DataFrame(t=sol.t, u=sol.u, lambda=λ)\n",
    "# df2=DataFrame(t=sol2.t, u=sol2.u, lambda=λ)\n"
   ]
  },
  {
   "cell_type": "code",
   "execution_count": 7,
   "metadata": {},
   "outputs": [
    {
     "data": {
      "text/plain": [
       "11-element Array{Symbol,1}:\n",
       " :u         \n",
       " :u_analytic\n",
       " :errors    \n",
       " :t         \n",
       " :k         \n",
       " :prob      \n",
       " :alg       \n",
       " :interp    \n",
       " :dense     \n",
       " :tslocation\n",
       " :retcode   "
      ]
     },
     "execution_count": 7,
     "metadata": {},
     "output_type": "execute_result"
    }
   ],
   "source": [
    "fieldnames(sol)"
   ]
  },
  {
   "cell_type": "code",
   "execution_count": 8,
   "metadata": {},
   "outputs": [
    {
     "name": "stderr",
     "output_type": "stream",
     "text": [
      "\u001b[1m\u001b[33mWARNING: \u001b[39m\u001b[22m\u001b[33misna(x::AbstractArray) is deprecated, use isna.(x) instead.\u001b[39m\n",
      "Stacktrace:\n",
      " [1] \u001b[1mdepwarn\u001b[22m\u001b[22m\u001b[1m(\u001b[22m\u001b[22m::String, ::Symbol\u001b[1m)\u001b[22m\u001b[22m at \u001b[1m./deprecated.jl:70\u001b[22m\u001b[22m\n",
      " [2] \u001b[1misna\u001b[22m\u001b[22m\u001b[1m(\u001b[22m\u001b[22m::Array{Float64,1}\u001b[1m)\u001b[22m\u001b[22m at \u001b[1m./deprecated.jl:57\u001b[22m\u001b[22m\n",
      " [3] \u001b[1misconcrete\u001b[22m\u001b[22m\u001b[1m(\u001b[22m\u001b[22m::Array{Float64,1}\u001b[1m)\u001b[22m\u001b[22m at \u001b[1m/home/wojciech/.julia/v0.6/Gadfly/src/misc.jl:4\u001b[22m\u001b[22m\n",
      " [4] \u001b[1mapply_scale\u001b[22m\u001b[22m\u001b[1m(\u001b[22m\u001b[22m::Gadfly.Scale.ContinuousScale, ::Array{Gadfly.Aesthetics,1}, ::Gadfly.Data, ::Vararg{Gadfly.Data,N} where N\u001b[1m)\u001b[22m\u001b[22m at \u001b[1m/home/wojciech/.julia/v0.6/Gadfly/src/scale.jl:195\u001b[22m\u001b[22m\n",
      " [5] \u001b[1mapply_scales\u001b[22m\u001b[22m\u001b[1m(\u001b[22m\u001b[22m::IterTools.Distinct{Base.ValueIterator{Dict{Symbol,Gadfly.ScaleElement}},Gadfly.ScaleElement}, ::Array{Gadfly.Aesthetics,1}, ::Gadfly.Data, ::Vararg{Gadfly.Data,N} where N\u001b[1m)\u001b[22m\u001b[22m at \u001b[1m/home/wojciech/.julia/v0.6/Gadfly/src/scale.jl:33\u001b[22m\u001b[22m\n",
      " [6] \u001b[1mapply_scales\u001b[22m\u001b[22m\u001b[1m(\u001b[22m\u001b[22m::IterTools.Distinct{Base.ValueIterator{Dict{Symbol,Gadfly.ScaleElement}},Gadfly.ScaleElement}, ::Gadfly.Data\u001b[1m)\u001b[22m\u001b[22m at \u001b[1m/home/wojciech/.julia/v0.6/Gadfly/src/scale.jl:52\u001b[22m\u001b[22m\n",
      " [7] \u001b[1mrender_prepare\u001b[22m\u001b[22m\u001b[1m(\u001b[22m\u001b[22m::Gadfly.Plot\u001b[1m)\u001b[22m\u001b[22m at \u001b[1m/home/wojciech/.julia/v0.6/Gadfly/src/Gadfly.jl:682\u001b[22m\u001b[22m\n",
      " [8] \u001b[1mrender\u001b[22m\u001b[22m\u001b[1m(\u001b[22m\u001b[22m::Gadfly.Plot\u001b[1m)\u001b[22m\u001b[22m at \u001b[1m/home/wojciech/.julia/v0.6/Gadfly/src/Gadfly.jl:760\u001b[22m\u001b[22m\n",
      " [9] \u001b[1mshow\u001b[22m\u001b[22m at \u001b[1m/home/wojciech/.julia/v0.6/Gadfly/src/Gadfly.jl:964\u001b[22m\u001b[22m [inlined]\n",
      " [10] \u001b[1mlimitstringmime\u001b[22m\u001b[22m\u001b[1m(\u001b[22m\u001b[22m::MIME{Symbol(\"image/svg+xml\")}, ::Gadfly.Plot\u001b[1m)\u001b[22m\u001b[22m at \u001b[1m/home/wojciech/.julia/v0.6/IJulia/src/inline.jl:24\u001b[22m\u001b[22m\n",
      " [11] \u001b[1mdisplay_dict\u001b[22m\u001b[22m\u001b[1m(\u001b[22m\u001b[22m::Gadfly.Plot\u001b[1m)\u001b[22m\u001b[22m at \u001b[1m/home/wojciech/.julia/v0.6/IJulia/src/execute_request.jl:33\u001b[22m\u001b[22m\n",
      " [12] \u001b[1m(::Compat.#inner#17{Array{Any,1},IJulia.#display_dict,Tuple{Gadfly.Plot}})\u001b[22m\u001b[22m\u001b[1m(\u001b[22m\u001b[22m\u001b[1m)\u001b[22m\u001b[22m at \u001b[1m/home/wojciech/.julia/v0.6/Compat/src/Compat.jl:385\u001b[22m\u001b[22m\n",
      " [13] \u001b[1mexecute_request\u001b[22m\u001b[22m\u001b[1m(\u001b[22m\u001b[22m::ZMQ.Socket, ::IJulia.Msg\u001b[1m)\u001b[22m\u001b[22m at \u001b[1m/home/wojciech/.julia/v0.6/IJulia/src/execute_request.jl:186\u001b[22m\u001b[22m\n",
      " [14] \u001b[1m(::Compat.#inner#17{Array{Any,1},IJulia.#execute_request,Tuple{ZMQ.Socket,IJulia.Msg}})\u001b[22m\u001b[22m\u001b[1m(\u001b[22m\u001b[22m\u001b[1m)\u001b[22m\u001b[22m at \u001b[1m/home/wojciech/.julia/v0.6/Compat/src/Compat.jl:385\u001b[22m\u001b[22m\n",
      " [15] \u001b[1meventloop\u001b[22m\u001b[22m\u001b[1m(\u001b[22m\u001b[22m::ZMQ.Socket\u001b[1m)\u001b[22m\u001b[22m at \u001b[1m/home/wojciech/.julia/v0.6/IJulia/src/eventloop.jl:8\u001b[22m\u001b[22m\n",
      " [16] \u001b[1m(::IJulia.##14#17)\u001b[22m\u001b[22m\u001b[1m(\u001b[22m\u001b[22m\u001b[1m)\u001b[22m\u001b[22m at \u001b[1m./task.jl:335\u001b[22m\u001b[22m\n",
      "while loading /home/wojciech/.julia/v0.6/IJulia/src/kernel.jl, in expression starting on line 31\n"
     ]
    },
    {
     "ename": "TypeError",
     "evalue": "\u001b[91mTypeError: non-boolean (BitArray{1}) used in boolean context\u001b[39m",
     "output_type": "error",
     "traceback": [
      "\u001b[91mTypeError: non-boolean (BitArray{1}) used in boolean context\u001b[39m",
      "",
      "Stacktrace:",
      " [1] \u001b[1mapply_scale\u001b[22m\u001b[22m\u001b[1m(\u001b[22m\u001b[22m::Gadfly.Scale.ContinuousScale, ::Array{Gadfly.Aesthetics,1}, ::Gadfly.Data, ::Vararg{Gadfly.Data,N} where N\u001b[1m)\u001b[22m\u001b[22m at \u001b[1m/home/wojciech/.julia/v0.6/Gadfly/src/scale.jl:195\u001b[22m\u001b[22m",
      " [2] \u001b[1mapply_scales\u001b[22m\u001b[22m\u001b[1m(\u001b[22m\u001b[22m::IterTools.Distinct{Base.ValueIterator{Dict{Symbol,Gadfly.ScaleElement}},Gadfly.ScaleElement}, ::Array{Gadfly.Aesthetics,1}, ::Gadfly.Data, ::Vararg{Gadfly.Data,N} where N\u001b[1m)\u001b[22m\u001b[22m at \u001b[1m/home/wojciech/.julia/v0.6/Gadfly/src/scale.jl:33\u001b[22m\u001b[22m",
      " [3] \u001b[1mapply_scales\u001b[22m\u001b[22m\u001b[1m(\u001b[22m\u001b[22m::IterTools.Distinct{Base.ValueIterator{Dict{Symbol,Gadfly.ScaleElement}},Gadfly.ScaleElement}, ::Gadfly.Data\u001b[1m)\u001b[22m\u001b[22m at \u001b[1m/home/wojciech/.julia/v0.6/Gadfly/src/scale.jl:52\u001b[22m\u001b[22m",
      " [4] \u001b[1mrender_prepare\u001b[22m\u001b[22m\u001b[1m(\u001b[22m\u001b[22m::Gadfly.Plot\u001b[1m)\u001b[22m\u001b[22m at \u001b[1m/home/wojciech/.julia/v0.6/Gadfly/src/Gadfly.jl:682\u001b[22m\u001b[22m",
      " [5] \u001b[1mrender\u001b[22m\u001b[22m\u001b[1m(\u001b[22m\u001b[22m::Gadfly.Plot\u001b[1m)\u001b[22m\u001b[22m at \u001b[1m/home/wojciech/.julia/v0.6/Gadfly/src/Gadfly.jl:760\u001b[22m\u001b[22m",
      " [6] \u001b[1mshow\u001b[22m\u001b[22m at \u001b[1m/home/wojciech/.julia/v0.6/Gadfly/src/Gadfly.jl:964\u001b[22m\u001b[22m [inlined]",
      " [7] \u001b[1mlimitstringmime\u001b[22m\u001b[22m\u001b[1m(\u001b[22m\u001b[22m::MIME{Symbol(\"image/svg+xml\")}, ::Gadfly.Plot\u001b[1m)\u001b[22m\u001b[22m at \u001b[1m/home/wojciech/.julia/v0.6/IJulia/src/inline.jl:24\u001b[22m\u001b[22m",
      " [8] \u001b[1mdisplay_dict\u001b[22m\u001b[22m\u001b[1m(\u001b[22m\u001b[22m::Gadfly.Plot\u001b[1m)\u001b[22m\u001b[22m at \u001b[1m/home/wojciech/.julia/v0.6/IJulia/src/execute_request.jl:33\u001b[22m\u001b[22m",
      " [9] \u001b[1m(::Compat.#inner#17{Array{Any,1},IJulia.#display_dict,Tuple{Gadfly.Plot}})\u001b[22m\u001b[22m\u001b[1m(\u001b[22m\u001b[22m\u001b[1m)\u001b[22m\u001b[22m at \u001b[1m/home/wojciech/.julia/v0.6/Compat/src/Compat.jl:385\u001b[22m\u001b[22m",
      " [10] \u001b[1mexecute_request\u001b[22m\u001b[22m\u001b[1m(\u001b[22m\u001b[22m::ZMQ.Socket, ::IJulia.Msg\u001b[1m)\u001b[22m\u001b[22m at \u001b[1m/home/wojciech/.julia/v0.6/IJulia/src/execute_request.jl:186\u001b[22m\u001b[22m",
      " [11] \u001b[1m(::Compat.#inner#17{Array{Any,1},IJulia.#execute_request,Tuple{ZMQ.Socket,IJulia.Msg}})\u001b[22m\u001b[22m\u001b[1m(\u001b[22m\u001b[22m\u001b[1m)\u001b[22m\u001b[22m at \u001b[1m/home/wojciech/.julia/v0.6/Compat/src/Compat.jl:385\u001b[22m\u001b[22m",
      " [12] \u001b[1meventloop\u001b[22m\u001b[22m\u001b[1m(\u001b[22m\u001b[22m::ZMQ.Socket\u001b[1m)\u001b[22m\u001b[22m at \u001b[1m/home/wojciech/.julia/v0.6/IJulia/src/eventloop.jl:8\u001b[22m\u001b[22m",
      " [13] \u001b[1m(::IJulia.##14#17)\u001b[22m\u001b[22m\u001b[1m(\u001b[22m\u001b[22m\u001b[1m)\u001b[22m\u001b[22m at \u001b[1m./task.jl:335\u001b[22m\u001b[22m"
     ]
    }
   ],
   "source": [
    "plot(df1,  x=\"t\", y=\"u\")\n"
   ]
  },
  {
   "cell_type": "code",
   "execution_count": 9,
   "metadata": {},
   "outputs": [
    {
     "ename": "LoadError",
     "evalue": "\u001b[91mUndefVarError: df2 not defined\u001b[39m",
     "output_type": "error",
     "traceback": [
      "\u001b[91mUndefVarError: df2 not defined\u001b[39m",
      "",
      "Stacktrace:",
      " [1] \u001b[1mexecute_request\u001b[22m\u001b[22m\u001b[1m(\u001b[22m\u001b[22m::ZMQ.Socket, ::IJulia.Msg\u001b[1m)\u001b[22m\u001b[22m at \u001b[1m/home/wojciech/.julia/v0.6/IJulia/src/execute_request.jl:158\u001b[22m\u001b[22m",
      " [2] \u001b[1m(::Compat.#inner#17{Array{Any,1},IJulia.#execute_request,Tuple{ZMQ.Socket,IJulia.Msg}})\u001b[22m\u001b[22m\u001b[1m(\u001b[22m\u001b[22m\u001b[1m)\u001b[22m\u001b[22m at \u001b[1m/home/wojciech/.julia/v0.6/Compat/src/Compat.jl:385\u001b[22m\u001b[22m",
      " [3] \u001b[1meventloop\u001b[22m\u001b[22m\u001b[1m(\u001b[22m\u001b[22m::ZMQ.Socket\u001b[1m)\u001b[22m\u001b[22m at \u001b[1m/home/wojciech/.julia/v0.6/IJulia/src/eventloop.jl:8\u001b[22m\u001b[22m",
      " [4] \u001b[1m(::IJulia.##14#17)\u001b[22m\u001b[22m\u001b[1m(\u001b[22m\u001b[22m\u001b[1m)\u001b[22m\u001b[22m at \u001b[1m./task.jl:335\u001b[22m\u001b[22m"
     ]
    }
   ],
   "source": [
    "\n",
    "plot(df2,  x=\"t\", y=\"u\")"
   ]
  },
  {
   "cell_type": "code",
   "execution_count": null,
   "metadata": {},
   "outputs": [],
   "source": []
  }
 ],
 "metadata": {
  "kernelspec": {
   "display_name": "Julia 0.6.2",
   "language": "julia",
   "name": "julia-0.6"
  },
  "language_info": {
   "file_extension": ".jl",
   "mimetype": "application/julia",
   "name": "julia",
   "version": "0.6.2"
  }
 },
 "nbformat": 4,
 "nbformat_minor": 2
}
