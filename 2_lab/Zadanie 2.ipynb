{
 "cells": [
  {
   "cell_type": "code",
   "execution_count": 1,
   "metadata": {},
   "outputs": [],
   "source": [
    "import Base.*\n",
    "import Base.convert\n",
    "import Base.promote_rule"
   ]
  },
  {
   "cell_type": "code",
   "execution_count": 2,
   "metadata": {},
   "outputs": [],
   "source": [
    "struct Gn{N}\n",
    "    x\n",
    "    function Gn{N}(x::Int64) where N\n",
    "        x = x % N\n",
    "        if gcd(x, N) != 1\n",
    "            throw(DomainError())\n",
    "        else\n",
    "            new(x)\n",
    "        end\n",
    "    end\n",
    "end\n"
   ]
  },
  {
   "cell_type": "code",
   "execution_count": 27,
   "metadata": {},
   "outputs": [
    {
     "name": "stdout",
     "output_type": "stream",
     "text": [
      "Gn{7}(4): Gn{7}(4)\n",
      "Gn{7}(9): Gn{7}(2)\n"
     ]
    },
    {
     "data": {
      "text/plain": [
       "Gn{7}(6)"
      ]
     },
     "execution_count": 27,
     "metadata": {},
     "output_type": "execute_result"
    }
   ],
   "source": [
    "println(\"Gn{7}(4): \", Gn{7}(4))\n",
    "println(\"Gn{7}(9): \", Gn{7}(9))\n",
    "Gn{7}(1000)"
   ]
  },
  {
   "cell_type": "code",
   "execution_count": 4,
   "metadata": {},
   "outputs": [
    {
     "ename": "LoadError",
     "evalue": "DomainError:",
     "output_type": "error",
     "traceback": [
      "DomainError:",
      "",
      "Stacktrace:",
      " [1] \u001b[1mGn{6}\u001b[22m\u001b[22m\u001b[1m(\u001b[22m\u001b[22m::Int64\u001b[1m)\u001b[22m\u001b[22m at \u001b[1m./In[2]:6\u001b[22m\u001b[22m"
     ]
    }
   ],
   "source": [
    "Gn{6}(4)"
   ]
  },
  {
   "cell_type": "code",
   "execution_count": 5,
   "metadata": {},
   "outputs": [
    {
     "data": {
      "text/plain": [
       "group_size (generic function with 1 method)"
      ]
     },
     "execution_count": 5,
     "metadata": {},
     "output_type": "execute_result"
    }
   ],
   "source": [
    "function group_size(::Type{Gn{N}}) where N\n",
    "    count = 0\n",
    "    for i = 1:(N - 1)\n",
    "        if(gcd(i, N) == 1)\n",
    "            count += 1\n",
    "        end\n",
    "    end\n",
    "    count\n",
    "end"
   ]
  },
  {
   "cell_type": "code",
   "execution_count": 6,
   "metadata": {},
   "outputs": [
    {
     "name": "stdout",
     "output_type": "stream",
     "text": [
      "Gn{7}: 6\n",
      "Gn{8}: 4\n"
     ]
    }
   ],
   "source": [
    "println(\"Gn{7}: \", group_size(Gn{7}))\n",
    "println(\"Gn{8}: \", group_size(Gn{8}))"
   ]
  },
  {
   "cell_type": "code",
   "execution_count": 7,
   "metadata": {},
   "outputs": [
    {
     "data": {
      "text/plain": [
       "* (generic function with 185 methods)"
      ]
     },
     "execution_count": 7,
     "metadata": {},
     "output_type": "execute_result"
    }
   ],
   "source": [
    "function *(x::Gn{N}, y::Gn{N}) where N\n",
    "    Gn{N}(x.x * y.x)\n",
    "end\n",
    "\n",
    "function *(x::Gn{N}, y::T) where N where T <: Integer\n",
    "    Gn{N}(x.x * y) \n",
    "end\n",
    "function *(x::T, y::Gn{N}) where N where T <: Integer\n",
    "    Gn{N}(x * y.x)\n",
    "end\n"
   ]
  },
  {
   "cell_type": "code",
   "execution_count": 28,
   "metadata": {},
   "outputs": [
    {
     "name": "stdout",
     "output_type": "stream",
     "text": [
      "Gn{7}(3) * 4: Gn{7}(5)\n",
      "3 * Gn{7}(4): Gn{7}(5)\n",
      "Gn{7}(3) * Gn{7}(4): Gn{7}(5)\n"
     ]
    }
   ],
   "source": [
    "println(\"Gn{7}(3) * 4: \", Gn{7}(3) * 4)\n",
    "println(\"3 * Gn{7}(4): \", 3 * Gn{7}(4))\n",
    "println(\"Gn{7}(3) * Gn{7}(4): \", Gn{7}(3) * Gn{7}(4))"
   ]
  },
  {
   "cell_type": "code",
   "execution_count": 9,
   "metadata": {},
   "outputs": [
    {
     "data": {
      "text/plain": [
       "convert (generic function with 723 methods)"
      ]
     },
     "execution_count": 9,
     "metadata": {},
     "output_type": "execute_result"
    }
   ],
   "source": [
    "convert(::Type{Int64}, x::Gn{N}) where N = x.x\n",
    "convert(::Type{Gn{N}}, x::Int64) where N = Gn{N}(x)"
   ]
  },
  {
   "cell_type": "code",
   "execution_count": 29,
   "metadata": {},
   "outputs": [
    {
     "data": {
      "text/plain": [
       "(Gn{3}(2), 4)"
      ]
     },
     "execution_count": 29,
     "metadata": {},
     "output_type": "execute_result"
    }
   ],
   "source": [
    "function test_convert()\n",
    "    x::Gn{3} = 5\n",
    "    y::Int64 = Gn{7}(11)\n",
    "    x, y\n",
    "end\n",
    "test_convert()"
   ]
  },
  {
   "cell_type": "code",
   "execution_count": 11,
   "metadata": {},
   "outputs": [
    {
     "data": {
      "text/plain": [
       "promote_rule (generic function with 124 methods)"
      ]
     },
     "execution_count": 11,
     "metadata": {},
     "output_type": "execute_result"
    }
   ],
   "source": [
    "promote_rule(::Type{Gn{N}}, ::Type{T}) where N where T <: Integer = Int64"
   ]
  },
  {
   "cell_type": "code",
   "execution_count": 12,
   "metadata": {},
   "outputs": [
    {
     "data": {
      "text/plain": [
       "Int64"
      ]
     },
     "execution_count": 12,
     "metadata": {},
     "output_type": "execute_result"
    }
   ],
   "source": [
    "promote_type(Int8, Gn{3})"
   ]
  },
  {
   "cell_type": "code",
   "execution_count": 13,
   "metadata": {},
   "outputs": [
    {
     "data": {
      "text/plain": [
       "powmod (generic function with 1 method)"
      ]
     },
     "execution_count": 13,
     "metadata": {},
     "output_type": "execute_result"
    }
   ],
   "source": [
    "function powmod(a::Gn{N}, x::T) where N where T <: Integer\n",
    "    result = 1\n",
    "    for _ = 1:x\n",
    "        result *= a\n",
    "    end\n",
    "    result\n",
    "end\n"
   ]
  },
  {
   "cell_type": "code",
   "execution_count": 14,
   "metadata": {},
   "outputs": [
    {
     "data": {
      "text/plain": [
       "Gn{8}(3)"
      ]
     },
     "execution_count": 14,
     "metadata": {},
     "output_type": "execute_result"
    }
   ],
   "source": [
    "powmod(Gn{8}(3), 3)"
   ]
  },
  {
   "cell_type": "code",
   "execution_count": 15,
   "metadata": {},
   "outputs": [
    {
     "data": {
      "text/plain": [
       "period (generic function with 1 method)"
      ]
     },
     "execution_count": 15,
     "metadata": {},
     "output_type": "execute_result"
    }
   ],
   "source": [
    "function period(a::Gn{N}) where N\n",
    "    r = 1\n",
    "    elems = group_size(Gn{N})\n",
    "    for r = 1:elems\n",
    "        if elems % r != 0\n",
    "            continue\n",
    "        end\n",
    "        if powmod(a, r) == Gn{N}(1)\n",
    "            return r\n",
    "        end\n",
    "    end\n",
    "    throw(ErrorException(\"Period not found\"))\n",
    "end"
   ]
  },
  {
   "cell_type": "code",
   "execution_count": 16,
   "metadata": {},
   "outputs": [
    {
     "data": {
      "text/plain": [
       "2"
      ]
     },
     "execution_count": 16,
     "metadata": {},
     "output_type": "execute_result"
    }
   ],
   "source": [
    "period(Gn{3}(2))"
   ]
  },
  {
   "cell_type": "markdown",
   "metadata": {},
   "source": [
    "Wikipedia says:\n",
    "```pascal\n",
    "function inverse(a, n)\n",
    "    t := 0;     newt := 1;    \n",
    "    r := n;     newr := a;    \n",
    "    while newr ≠ 0\n",
    "        quotient := r div newr\n",
    "        (t, newt) := (newt, t - quotient * newt) \n",
    "        (r, newr) := (newr, r - quotient * newr)\n",
    "    if r > 1 then return \"a is not invertible\"\n",
    "    if t < 0 then t := t + n\n",
    "    return t\n",
    "```\n"
   ]
  },
  {
   "cell_type": "code",
   "execution_count": 17,
   "metadata": {},
   "outputs": [
    {
     "data": {
      "text/plain": [
       "inverse (generic function with 1 method)"
      ]
     },
     "execution_count": 17,
     "metadata": {},
     "output_type": "execute_result"
    }
   ],
   "source": [
    "function inverse(a::Gn{N}) where N\n",
    "    t::Int64 = 0\n",
    "    r::Int64 = N\n",
    "    newt::Int64 = 1\n",
    "    newr::Int64 = a\n",
    "    while newr !=0 \n",
    "        quotient = div(r, newr)\n",
    "        (t, newt) = (newt, t - quotient * newt)\n",
    "        (r, newr) = (newr, r - quotient * newr)\n",
    "    end\n",
    "    if r > 1\n",
    "        throw(DomainError())\n",
    "    end\n",
    "    if t < 0\n",
    "        t += N\n",
    "    end\n",
    "    Gn{N}(t)\n",
    "end"
   ]
  },
  {
   "cell_type": "code",
   "execution_count": 24,
   "metadata": {},
   "outputs": [
    {
     "data": {
      "text/plain": [
       "Gn{7}(3)"
      ]
     },
     "execution_count": 24,
     "metadata": {},
     "output_type": "execute_result"
    }
   ],
   "source": [
    "inverse(Gn{7}(5))"
   ]
  },
  {
   "cell_type": "markdown",
   "metadata": {},
   "source": [
    "## RSA"
   ]
  },
  {
   "cell_type": "code",
   "execution_count": 20,
   "metadata": {},
   "outputs": [
    {
     "data": {
      "text/plain": [
       "4"
      ]
     },
     "execution_count": 20,
     "metadata": {},
     "output_type": "execute_result"
    }
   ],
   "source": [
    "N = 55\n",
    "c = 17\n",
    "b = 4\n"
   ]
  },
  {
   "cell_type": "code",
   "execution_count": 25,
   "metadata": {},
   "outputs": [
    {
     "data": {
      "text/plain": [
       "decrypt (generic function with 1 method)"
      ]
     },
     "execution_count": 25,
     "metadata": {},
     "output_type": "execute_result"
    }
   ],
   "source": [
    "function decrypt(keyN, keyC, msg)\n",
    "    p = period(Gn{keyN}(msg))\n",
    "    privkey = inverse(Gn{keyN}(keyC)) \n",
    "    plain = powmod(Gn{keyN}(msg), privkey.x)\n",
    "    \n",
    "    assert(Int64(powmod(Gn{keyN}(plain), keyC)) == msg)\n",
    "    \n",
    "    Int64(plain)\n",
    "end\n"
   ]
  },
  {
   "cell_type": "code",
   "execution_count": 26,
   "metadata": {},
   "outputs": [
    {
     "data": {
      "text/plain": [
       "9"
      ]
     },
     "execution_count": 26,
     "metadata": {},
     "output_type": "execute_result"
    }
   ],
   "source": [
    "decrypt(N, c, b)"
   ]
  },
  {
   "cell_type": "code",
   "execution_count": null,
   "metadata": {},
   "outputs": [],
   "source": []
  },
  {
   "cell_type": "code",
   "execution_count": null,
   "metadata": {},
   "outputs": [],
   "source": []
  }
 ],
 "metadata": {
  "kernelspec": {
   "display_name": "Julia 0.6.2",
   "language": "julia",
   "name": "julia-0.6"
  },
  "language_info": {
   "file_extension": ".jl",
   "mimetype": "application/julia",
   "name": "julia",
   "version": "0.6.2"
  }
 },
 "nbformat": 4,
 "nbformat_minor": 2
}
