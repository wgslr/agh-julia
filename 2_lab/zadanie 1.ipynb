{
 "cells": [
  {
   "cell_type": "code",
   "execution_count": 51,
   "metadata": {},
   "outputs": [
    {
     "name": "stdout",
     "output_type": "stream",
     "text": [
      "Any-->Number-->Real-->Integer\n"
     ]
    }
   ],
   "source": [
    "function parents(t)\n",
    "    parents = [t]\n",
    "    while(t != Any)\n",
    "        t = supertype(t)\n",
    "        parents = [t; parents]\n",
    "    end\n",
    "    \n",
    "    for p in parents[1:end-1]\n",
    "        print(p, \"-->\")\n",
    "    end\n",
    "    println(parents[end])\n",
    "end\n",
    "\n",
    "parents(Integer)"
   ]
  },
  {
   "cell_type": "code",
   "execution_count": null,
   "metadata": {},
   "outputs": [],
   "source": []
  }
 ],
 "metadata": {
  "kernelspec": {
   "display_name": "Julia 0.6.2",
   "language": "julia",
   "name": "julia-0.6"
  },
  "language_info": {
   "file_extension": ".jl",
   "mimetype": "application/julia",
   "name": "julia",
   "version": "0.6.2"
  }
 },
 "nbformat": 4,
 "nbformat_minor": 2
}
