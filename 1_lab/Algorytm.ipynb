{
 "cells": [
  {
   "cell_type": "code",
   "execution_count": null,
   "metadata": {},
   "outputs": [],
   "source": [
    "# merge sort\n",
    "function mergejoin(part1, part2)\n",
    "    result = []\n",
    "    i = j = 1\n",
    "    \n",
    "   while(i <= length(part1) && j <= length(part2))\n",
    "        \n",
    "        if(part1[i] <= part2[j])\n",
    "            result = [result; part1[i]]\n",
    "            i += 1\n",
    "        else\n",
    "            result = [result; part2[j]]\n",
    "            j += 1\n",
    "        end\n",
    "    end\n",
    "    \n",
    "    if i <= length(part1)\n",
    "        return vcat(result, part1[i:length(part1)])\n",
    "    elseif j <= length(part2) \n",
    "        return vcat(result, part2[j:length(part2)])\n",
    "    end\n",
    "    result\n",
    "end\n",
    "mergeparts([1,4], [0,3,5])"
   ]
  },
  {
   "cell_type": "code",
   "execution_count": null,
   "metadata": {},
   "outputs": [],
   "source": [
    "function mergesplit(arr)\n",
    "    if length(arr) <= 1\n",
    "        return (arr, [])\n",
    "    end\n",
    "    pivot = arr[div(length(arr), 2) + 1]\n",
    "    res1 = []\n",
    "    res2 = []\n",
    "    for x in arr\n",
    "        if x <= pivot\n",
    "            res1 = [x; res1]\n",
    "        else\n",
    "            res2 = [x; res2]\n",
    "        end\n",
    "    end\n",
    "    print(\"Split \", arr, \" into \", res1, res2, \"\\n\")\n",
    "    (res1, res2)\n",
    "end\n"
   ]
  },
  {
   "cell_type": "code",
   "execution_count": null,
   "metadata": {},
   "outputs": [],
   "source": [
    "function mergesort(arr)\n",
    "    print(\"Sorting \", arr)\n",
    "    if arr == []\n",
    "        arr\n",
    "    end\n",
    "    (arr1, arr2) = mergesplit(arr)\n",
    "    mergejoin(mergesort(arr1), mergesort(arr2))\n",
    "end"
   ]
  },
  {
   "cell_type": "code",
   "execution_count": null,
   "metadata": {},
   "outputs": [],
   "source": [
    "mergesort([8,5,7,3])"
   ]
  },
  {
   "cell_type": "code",
   "execution_count": 49,
   "metadata": {},
   "outputs": [
    {
     "data": {
      "text/plain": [
       "3×2 Array{Int64,2}:\n",
       " 1  10\n",
       " 2  11\n",
       " 3  12"
      ]
     },
     "execution_count": 49,
     "metadata": {},
     "output_type": "execute_result"
    }
   ],
   "source": [
    "a = [1,2,3]\n",
    "b = [10,11,12]\n",
    "[a b]"
   ]
  },
  {
   "cell_type": "code",
   "execution_count": 27,
   "metadata": {},
   "outputs": [
    {
     "ename": "LoadError",
     "evalue": "\u001b[91mMethodError: no method matching length()\u001b[0m\nClosest candidates are:\n  length(\u001b[91m::SimpleVector\u001b[39m) at essentials.jl:256\n  length(\u001b[91m::Base.MethodList\u001b[39m) at reflection.jl:558\n  length(\u001b[91m::MethodTable\u001b[39m) at reflection.jl:634\n  ...\u001b[39m",
     "output_type": "error",
     "traceback": [
      "\u001b[91mMethodError: no method matching length()\u001b[0m\nClosest candidates are:\n  length(\u001b[91m::SimpleVector\u001b[39m) at essentials.jl:256\n  length(\u001b[91m::Base.MethodList\u001b[39m) at reflection.jl:558\n  length(\u001b[91m::MethodTable\u001b[39m) at reflection.jl:634\n  ...\u001b[39m",
      "",
      "Stacktrace:",
      " [1] \u001b[1minclude_string\u001b[22m\u001b[22m\u001b[1m(\u001b[22m\u001b[22m::String, ::String\u001b[1m)\u001b[22m\u001b[22m at \u001b[1m./loading.jl:522\u001b[22m\u001b[22m"
     ]
    }
   ],
   "source": [
    "[1,2,3,4,5][2:length()]"
   ]
  },
  {
   "cell_type": "code",
   "execution_count": 8,
   "metadata": {},
   "outputs": [
    {
     "data": {
      "text/plain": [
       "4"
      ]
     },
     "execution_count": 8,
     "metadata": {},
     "output_type": "execute_result"
    }
   ],
   "source": [
    "function incr(x)\n",
    "    x + 1\n",
    "end\n",
    "a = 4\n",
    "incr(a)\n",
    "a"
   ]
  },
  {
   "cell_type": "code",
   "execution_count": 12,
   "metadata": {},
   "outputs": [
    {
     "data": {
      "text/plain": [
       "false"
      ]
     },
     "execution_count": 12,
     "metadata": {},
     "output_type": "execute_result"
    },
    {
     "name": "stdout",
     "output_type": "stream",
     "text": [
      "search: \u001b[1me\u001b[22m\u001b[1ml\u001b[22m\u001b[1ms\u001b[22m\u001b[1me\u001b[22m \u001b[1me\u001b[22m\u001b[1ml\u001b[22m\u001b[1ms\u001b[22m\u001b[1me\u001b[22mif if\u001b[1me\u001b[22m\u001b[1ml\u001b[22m\u001b[1ms\u001b[22m\u001b[1me\u001b[22m @\u001b[1me\u001b[22m\u001b[1ml\u001b[22map\u001b[1ms\u001b[22m\u001b[1me\u001b[22md fi\u001b[1me\u001b[22m\u001b[1ml\u001b[22mdoff\u001b[1ms\u001b[22m\u001b[1me\u001b[22mt S\u001b[1me\u001b[22mria\u001b[1ml\u001b[22mization\u001b[1mS\u001b[22mtat\u001b[1me\u001b[22m nfi\u001b[1me\u001b[22m\u001b[1ml\u001b[22md\u001b[1ms\u001b[22m\n",
      "\n"
     ]
    }
   ],
   "source": [
    "function isEven(x)\n",
    "    x % 2 == 0\n",
    "end\n",
    "\n",
    "isEven(3)"
   ]
  },
  {
   "cell_type": "code",
   "execution_count": 64,
   "metadata": {},
   "outputs": [
    {
     "data": {
      "text/plain": [
       "2×3 Array{Int64,2}:\n",
       " 1  2  3\n",
       " 4  5  6"
      ]
     },
     "execution_count": 64,
     "metadata": {},
     "output_type": "execute_result"
    }
   ],
   "source": [
    "[[1,2,3] [4,5,6]].'"
   ]
  },
  {
   "cell_type": "code",
   "execution_count": null,
   "metadata": {},
   "outputs": [],
   "source": []
  }
 ],
 "metadata": {
  "kernelspec": {
   "display_name": "Julia 0.6.2",
   "language": "julia",
   "name": "julia-0.6"
  },
  "language_info": {
   "file_extension": ".jl",
   "mimetype": "application/julia",
   "name": "julia",
   "version": "0.6.2"
  }
 },
 "nbformat": 4,
 "nbformat_minor": 2
}
