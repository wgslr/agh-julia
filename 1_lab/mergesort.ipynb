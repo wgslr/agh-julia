{
 "cells": [
  {
   "cell_type": "code",
   "execution_count": 2,
   "metadata": {},
   "outputs": [
    {
     "data": {
      "text/plain": [
       "mergejoin (generic function with 1 method)"
      ]
     },
     "execution_count": 2,
     "metadata": {},
     "output_type": "execute_result"
    }
   ],
   "source": [
    "# merge sort\n",
    "function mergejoin(part1, part2)\n",
    "    result = []\n",
    "    i = j = 1\n",
    "    \n",
    "   while(i <= length(part1) && j <= length(part2))\n",
    "        \n",
    "        if(part1[i] <= part2[j])\n",
    "            result = [result; part1[i]]\n",
    "            i += 1\n",
    "        else\n",
    "            result = [result; part2[j]]\n",
    "            j += 1\n",
    "        end\n",
    "    end\n",
    "    \n",
    "    if i <= length(part1)\n",
    "        return vcat(result, part1[i:length(part1)])\n",
    "    elseif j <= length(part2) \n",
    "        return vcat(result, part2[j:length(part2)])\n",
    "    end\n",
    "    result\n",
    "end"
   ]
  },
  {
   "cell_type": "code",
   "execution_count": 5,
   "metadata": {},
   "outputs": [
    {
     "data": {
      "text/plain": [
       "mergesort (generic function with 1 method)"
      ]
     },
     "execution_count": 5,
     "metadata": {},
     "output_type": "execute_result"
    }
   ],
   "source": [
    "function mergesort(arr)\n",
    "    if length(arr) <= 1\n",
    "        return arr\n",
    "    end\n",
    "    \n",
    "    mid = div(length(arr), 2)\n",
    "    mergejoin(\n",
    "        mergesort(arr[1:mid]), \n",
    "        mergesort(arr[mid + 1:length(arr)]))\n",
    "end"
   ]
  },
  {
   "cell_type": "code",
   "execution_count": 10,
   "metadata": {
    "scrolled": true
   },
   "outputs": [
    {
     "data": {
      "text/plain": [
       "5-element Array{Any,1}:\n",
       " -2\n",
       "  1\n",
       "  2\n",
       " 10\n",
       " 15"
      ]
     },
     "execution_count": 10,
     "metadata": {},
     "output_type": "execute_result"
    }
   ],
   "source": [
    "mergesort([1,-2, 10, 15, 2])"
   ]
  },
  {
   "cell_type": "code",
   "execution_count": null,
   "metadata": {},
   "outputs": [],
   "source": []
  },
  {
   "cell_type": "code",
   "execution_count": 9,
   "metadata": {},
   "outputs": [
    {
     "ename": "LoadError",
     "evalue": "\u001b[91mUndefVarError: ++ not defined\u001b[39m",
     "output_type": "error",
     "traceback": [
      "\u001b[91mUndefVarError: ++ not defined\u001b[39m",
      ""
     ]
    }
   ],
   "source": []
  },
  {
   "cell_type": "code",
   "execution_count": null,
   "metadata": {},
   "outputs": [],
   "source": []
  }
 ],
 "metadata": {
  "kernelspec": {
   "display_name": "Julia 0.6.2",
   "language": "julia",
   "name": "julia-0.6"
  },
  "language_info": {
   "file_extension": ".jl",
   "mimetype": "application/julia",
   "name": "julia",
   "version": "0.6.2"
  }
 },
 "nbformat": 4,
 "nbformat_minor": 2
}
