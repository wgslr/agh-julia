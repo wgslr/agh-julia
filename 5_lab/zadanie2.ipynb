{
 "cells": [
  {
   "cell_type": "code",
   "execution_count": null,
   "metadata": {},
   "outputs": [],
   "source": [
    "# Wojciech Geisler\n",
    "# 2018"
   ]
  },
  {
   "cell_type": "code",
   "execution_count": 2,
   "metadata": {},
   "outputs": [
    {
     "data": {
      "text/plain": [
       "autodiff (generic function with 3 methods)"
      ]
     },
     "execution_count": 2,
     "metadata": {},
     "output_type": "execute_result"
    }
   ],
   "source": [
    "autodiff(ex::Real) = :(0)\n",
    "autodiff(ex::Symbol) = :(1)\n",
    "\n",
    "function autodiff(ex::Expr)\n",
    "    if(ex.head == :call)\n",
    "        if(ex.args[1] isa GlobalRef)\n",
    "            ex.args[1] = ex.args[1].name\n",
    "        end\n",
    "        autodiff(Val{ex.args[1]}, ex)\n",
    "        \n",
    "    else\n",
    "        throw(DomainError())\n",
    "    end\n",
    "end\n",
    "\n"
   ]
  },
  {
   "cell_type": "code",
   "execution_count": 3,
   "metadata": {},
   "outputs": [
    {
     "data": {
      "text/plain": [
       "autodiff (generic function with 7 methods)"
      ]
     },
     "execution_count": 3,
     "metadata": {},
     "output_type": "execute_result"
    }
   ],
   "source": [
    "\n",
    "function autodiff(::Type{Val{:+}}, ex::Expr)\n",
    "    diffs = map(autodiff, ex.args[2:end])\n",
    "    res = diffs[1]\n",
    "    for d in diffs[2:end]\n",
    "        res = :($res + $d)\n",
    "    end\n",
    "    res\n",
    "end\n",
    "\n",
    "function autodiff(::Type{Val{:-}}, ex::Expr)\n",
    "    l = autodiff(ex.args[2])\n",
    "    r = autodiff(ex.args[3])\n",
    "    :($l - $r)\n",
    "end\n",
    "\n",
    "function autodiff(::Type{Val{:*}}, ex::Expr)\n",
    "    # result of multiplication differential is a sum where each\n",
    "    # addend has on of the original arguments differentialed\n",
    "    res = :(0)\n",
    "    children = ex.args[2:end]\n",
    "    diffs = map(autodiff, children)\n",
    "    \n",
    "    for i in 1:length(diffs)\n",
    "        part = 1\n",
    "        for j in 1:length(diffs)\n",
    "            if i == j\n",
    "                d = diffs[j]\n",
    "                part = :($part * $d)\n",
    "            else\n",
    "                c = children[j]\n",
    "                part = :($part * $c)\n",
    "            end\n",
    "        end\n",
    "        res = :($res + $part)\n",
    "    end\n",
    "       \n",
    "    \n",
    "    res\n",
    "end\n",
    "\n",
    "function autodiff(::Type{Val{:/}}, ex::Expr)\n",
    "    l = ex.args[2]\n",
    "    r = ex.args[3]\n",
    "    ldx = autodiff(l)\n",
    "    rdx = autodiff(r)\n",
    "    :(($ldx*$r - $l * $rdx) / ($r * $r))\n",
    "end"
   ]
  },
  {
   "cell_type": "code",
   "execution_count": 4,
   "metadata": {},
   "outputs": [
    {
     "data": {
      "text/plain": [
       ":(((0 + ((1 * 1) * (5x)) * 2) + ((1x) * ((0 + (1 * 0) * x) + (1 * 5) * 1)) * 2) + ((1x) * (5x)) * 0)"
      ]
     },
     "execution_count": 4,
     "metadata": {},
     "output_type": "execute_result"
    }
   ],
   "source": [
    "e = autodiff(:(x * 5x * 2))"
   ]
  },
  {
   "cell_type": "code",
   "execution_count": 5,
   "metadata": {
    "scrolled": true
   },
   "outputs": [
    {
     "data": {
      "text/plain": [
       "60"
      ]
     },
     "execution_count": 5,
     "metadata": {},
     "output_type": "execute_result"
    }
   ],
   "source": [
    "x = 3\n",
    "eval(e)"
   ]
  },
  {
   "cell_type": "code",
   "execution_count": 6,
   "metadata": {},
   "outputs": [
    {
     "data": {
      "text/plain": [
       "fillSlots (generic function with 3 methods)"
      ]
     },
     "execution_count": 6,
     "metadata": {},
     "output_type": "execute_result"
    }
   ],
   "source": [
    "# replace slotnumbers with symbols\n",
    "function fillSlots(expr::SlotNumber, symbol)\n",
    "    return symbol\n",
    "end\n",
    "function fillSlots(expr::Expr, symbol)\n",
    "    expr.args = map(x -> fillSlots(x, symbol), expr.args)\n",
    "    expr\n",
    "end\n",
    "function fillSlots(expr, symbol)\n",
    "    expr\n",
    "end"
   ]
  },
  {
   "cell_type": "code",
   "execution_count": 11,
   "metadata": {},
   "outputs": [
    {
     "data": {
      "text/plain": [
       "autodiffFun (generic function with 1 method)"
      ]
     },
     "execution_count": 11,
     "metadata": {},
     "output_type": "execute_result"
    }
   ],
   "source": [
    "function autodiffFun(f)\n",
    "    code_info = code_lowered(f)\n",
    "    code = code_info[1].code[2].args[1] # remove return operation\n",
    "    expr = fillSlots(code, :_x)\n",
    "    diff = autodiff(expr)\n",
    "    return eval(:(_x -> $diff))\n",
    "    \n",
    "end"
   ]
  },
  {
   "cell_type": "code",
   "execution_count": 12,
   "metadata": {
    "scrolled": true
   },
   "outputs": [
    {
     "data": {
      "text/plain": [
       "75.5"
      ]
     },
     "execution_count": 12,
     "metadata": {},
     "output_type": "execute_result"
    }
   ],
   "source": [
    "f(x) = 0.5 * x * x * x + 2x\n",
    "g = autodiffFun(f)\n",
    "g(7)"
   ]
  },
  {
   "cell_type": "code",
   "execution_count": 14,
   "metadata": {},
   "outputs": [
    {
     "data": {
      "text/plain": [
       "(::#7) (generic function with 1 method)"
      ]
     },
     "execution_count": 14,
     "metadata": {},
     "output_type": "execute_result"
    }
   ],
   "source": [
    "h = autodiffFun(g)"
   ]
  },
  {
   "cell_type": "code",
   "execution_count": 15,
   "metadata": {},
   "outputs": [
    {
     "data": {
      "text/plain": [
       "6.0"
      ]
     },
     "execution_count": 15,
     "metadata": {},
     "output_type": "execute_result"
    }
   ],
   "source": [
    "h(2)"
   ]
  },
  {
   "cell_type": "code",
   "execution_count": null,
   "metadata": {},
   "outputs": [],
   "source": []
  }
 ],
 "metadata": {
  "kernelspec": {
   "display_name": "Julia 0.6.2",
   "language": "julia",
   "name": "julia-0.6"
  },
  "language_info": {
   "file_extension": ".jl",
   "mimetype": "application/julia",
   "name": "julia",
   "version": "0.6.3"
  }
 },
 "nbformat": 4,
 "nbformat_minor": 2
}
