{
 "cells": [
  {
   "cell_type": "code",
   "execution_count": 3,
   "metadata": {},
   "outputs": [
    {
     "data": {
      "text/plain": [
       "harmonic_average (generic function with 1 method)"
      ]
     },
     "execution_count": 3,
     "metadata": {},
     "output_type": "execute_result"
    }
   ],
   "source": [
    "@generated function harmonic_average(x...)\n",
    "    N = length(x)\n",
    "    e = :(0)\n",
    "    for i = 1:N\n",
    "        e = :(1/x[$i] + $e)\n",
    "    end\n",
    "    e = :($N / $e)    \n",
    "    return e\n",
    "end\n",
    "\n"
   ]
  },
  {
   "cell_type": "code",
   "execution_count": 4,
   "metadata": {},
   "outputs": [
    {
     "data": {
      "text/plain": [
       "harmonic_average_expr (generic function with 1 method)"
      ]
     },
     "execution_count": 4,
     "metadata": {},
     "output_type": "execute_result"
    }
   ],
   "source": [
    "function harmonic_average_expr(x...)\n",
    "    N = length(x)\n",
    "    e = :(0)\n",
    "    for i = 1:N\n",
    "        e = :(1/x[$i] + $e)\n",
    "    end\n",
    "    e = :($N / $e)    \n",
    "    return e\n",
    "end\n",
    "\n"
   ]
  },
  {
   "cell_type": "code",
   "execution_count": null,
   "metadata": {},
   "outputs": [],
   "source": []
  },
  {
   "cell_type": "code",
   "execution_count": 5,
   "metadata": {},
   "outputs": [
    {
     "data": {
      "text/plain": [
       "19.433247583252133"
      ]
     },
     "execution_count": 5,
     "metadata": {},
     "output_type": "execute_result"
    }
   ],
   "source": [
    "#harmonic_average(2,3,4,5,6,8,9)\n",
    "harmonic_average((1:101)...)"
   ]
  },
  {
   "cell_type": "code",
   "execution_count": 6,
   "metadata": {},
   "outputs": [
    {
     "data": {
      "text/plain": [
       ":(100 / (1 / x[100] + (1 / x[99] + (1 / x[98] + (1 / x[97] + (1 / x[96] + (1 / x[95] + (1 / x[94] + (1 / x[93] + (1 / x[92] + (1 / x[91] + (1 / x[90] + (1 / x[89] + (1 / x[88] + (1 / x[87] + (1 / x[86] + (1 / x[85] + (1 / x[84] + (1 / x[83] + (1 / x[82] + (1 / x[81] + (1 / x[80] + (1 / x[79] + (1 / x[78] + (1 / x[77] + (1 / x[76] + (1 / x[75] + (1 / x[74] + (1 / x[73] + (1 / x[72] + (1 / x[71] + (1 / x[70] + (1 / x[69] + (1 / x[68] + (1 / x[67] + (1 / x[66] + (1 / x[65] + (1 / x[64] + (1 / x[63] + (1 / x[62] + (1 / x[61] + (1 / x[60] + (1 / x[59] + (1 / x[58] + (1 / x[57] + (1 / x[56] + (1 / x[55] + (1 / x[54] + (1 / x[53] + (1 / x[52] + (1 / x[51] + (1 / x[50] + (1 / x[49] + (1 / x[48] + (1 / x[47] + (1 / x[46] + (1 / x[45] + (1 / x[44] + (1 / x[43] + (1 / x[42] + (1 / x[41] + (1 / x[40] + (1 / x[39] + (1 / x[38] + (1 / x[37] + (1 / x[36] + (1 / x[35] + (1 / x[34] + (1 / x[33] + (1 / x[32] + (1 / x[31] + (1 / x[30] + (1 / x[29] + (1 / x[28] + (1 / x[27] + (1 / x[26] + (1 / x[25] + (1 / x[24] + (1 / x[23] + (1 / x[22] + (1 / x[21] + (1 / x[20] + (1 / x[19] + (1 / x[18] + (1 / x[17] + (1 / x[16] + (1 / x[15] + (1 / x[14] + (1 / x[13] + (1 / x[12] + (1 / x[11] + (1 / x[10] + (1 / x[9] + (1 / x[8] + (1 / x[7] + (1 / x[6] + (1 / x[5] + (1 / x[4] + (1 / x[3] + (1 / x[2] + (1 / x[1] + 0)))))))))))))))))))))))))))))))))))))))))))))))))))))))))))))))))))))))))))))))))))))))))))))))))))))"
      ]
     },
     "execution_count": 6,
     "metadata": {},
     "output_type": "execute_result"
    }
   ],
   "source": [
    "harmonic_average_expr((1:100)...)"
   ]
  },
  {
   "cell_type": "code",
   "execution_count": 7,
   "metadata": {},
   "outputs": [
    {
     "data": {
      "text/plain": [
       "19.277563597396004"
      ]
     },
     "execution_count": 7,
     "metadata": {},
     "output_type": "execute_result"
    }
   ],
   "source": [
    "x = 1:100\n",
    "eval(harmonic_average_expr(x...))"
   ]
  },
  {
   "cell_type": "code",
   "execution_count": 8,
   "metadata": {},
   "outputs": [
    {
     "data": {
      "text/plain": [
       "1.6363636363636365"
      ]
     },
     "execution_count": 8,
     "metadata": {},
     "output_type": "execute_result"
    }
   ],
   "source": [
    "harmonic_average(1,2,3)"
   ]
  },
  {
   "cell_type": "code",
   "execution_count": null,
   "metadata": {},
   "outputs": [],
   "source": []
  }
 ],
 "metadata": {
  "kernelspec": {
   "display_name": "Julia 0.6.2",
   "language": "julia",
   "name": "julia-0.6"
  },
  "language_info": {
   "file_extension": ".jl",
   "mimetype": "application/julia",
   "name": "julia",
   "version": "0.6.3"
  }
 },
 "nbformat": 4,
 "nbformat_minor": 2
}
